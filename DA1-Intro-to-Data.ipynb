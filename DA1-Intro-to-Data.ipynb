{
 "cells": [
  {
   "cell_type": "markdown",
   "metadata": {},
   "source": [
    "# [CPSC 222](https://github.com/GonzagaCPSC222) Intro to Data Science\n",
    "[Gonzaga University](https://www.gonzaga.edu/)\n",
    "\n",
    "[Gina Sprint](http://cs.gonzaga.edu/faculty/sprint/)\n",
    "## DA1 Intro to Data (75 pts)\n",
    "\n",
    "## Learner Objectives\n",
    "At the conclusion of this programming assignment, participants should be able to:\n",
    "* Work with loops, lists, and user input in Python\n",
    "* Compute standard summary statistics\n",
    "* Brainstorm sources of data\n",
    "* Consider ethical implications of new technologies\n",
    "\n",
    "## Prerequisites\n",
    "Before starting this programming assignment, participants should be able to:\n",
    "* Use variables, operators, conditionals, and loops in Python\n",
    "* Run Python program in VS Code\n",
    "* Submit assignments via Github Classroom\n",
    "\n",
    "## Acknowledgments\n",
    "Content used in this assignment is based upon information in the following sources:\n",
    "* None"
   ]
  },
  {
   "cell_type": "markdown",
   "metadata": {},
   "source": [
    "## Github Classroom Setup\n",
    "For this assignment, you will use GitHub Classroom to create a private code repositories to track code changes and submit your assignment. Open this DA1 link to accept the assignment and create a private repository for your assignment in Github classroom: https://classroom.github.com/a/zNz2MPtZ\n",
    "\n",
    "Your repo, for example, will be named GonzagaCPSC222/da1-yourusername (where yourusername is your Github username). I highly recommend committing/pushing regularly so your work is always backed up. We will grade your most recent commit, even if that commit is after the due date (your work will be marked late if this is the case)."
   ]
  },
  {
   "cell_type": "markdown",
   "metadata": {},
   "source": [
    "## Programming (45 pts)\n",
    "Write a program (main.py) that declares a list with the following floating point numbers: 84.4, 75.8, 42.1, 25.9, 51.1, 40.5, 78.4, 30.3, 47.7, 58.3, 90.8, 50.5, 28.2, 75.6, 61.8, 25.1, 91.0\n",
    "\n",
    "Write code to compute and display the following statistics summarizing the above list of numbers (the only module you may use to compute these statistics is the `math` module... that means no `statistics`, `numpy`, `scipy`, `pandas`, etc...):\n",
    "* Count of the numbers\n",
    "* Average (mean) of the numbers\n",
    "* Standard deviation of the numbers ([link to formula](https://www.mathsisfun.com/data/standard-deviation-formulas.html))\n",
    "* Median number\n",
    "* Smallest number\n",
    "* Largest number\n",
    "\n",
    "Each statistic should have an informative string label displayed in front of it and should be rounded to 2 decimals places. Check your answers against a desk check (compute the stats by hand) and/or using Excel.\n",
    "\n",
    "Next, prompt the user to enter a starting value (`start`) and an ending value (`end`). Replace all the values in the list that are between `[start, stop]` inclusive with the value 0. Then print the list to inform and show the user the modified list. \n",
    "\n",
    "### Bonus (3 pts)\n",
    "Print out the list in reverse in the following format (all on one line, numbers separated by ` _ `: `91.0 _ 25.1 _ 61.8 _ 75.6 _ 28.2 _ 50.5 _ 90.8 _ 58.3 _ 47.7 _ 30.3 _ 78.4 _ 40.5 _ 51.1 _ 25.9 _ 42.1 _ 75.8 _ 84.4`\n",
    "\n",
    "Do not use `reverse()` to do this. You must write your own loop to solve this problem."
   ]
  },
  {
   "cell_type": "markdown",
   "metadata": {},
   "source": [
    "## Project Part 1 (15 pts)\n",
    "We are starting the data science project in this class early! The project is called \"Quantified Self\" and for this project you are going to create and analyze your own dataset by collecting longitudinal data (data collected over time) on yourself. This first part of the project is to get your creative juices flowing regarding what data on yourself you want to collect (and later analyze). There are two different types of data sources that can be used to collect data on yourself:\n",
    "\n",
    "### Automatic Data Sources\n",
    "These data sources are software/hardware systems that automatically collect the data and provide an interface for accessing/downloading the data. For example, can you export data from an app you regularly use related to fitness, sleep, screen usage, web browsing history, games, budgeting/banking, etc. Examples from past projects include:\n",
    "* [Fitbit (or similar, like Apple Health or Strava)](https://www.fitbit.com/settings/data/export): download automatically tracked exercise/health data from the app and your wearable:\n",
    "<img src=\"https://github.com/GonzagaCPSC222/DAs/raw/master/figures/fitbit_data_download.png\" width=\"400\">\n",
    "\n",
    "* [Spotify (or similar, like Apple Music)](https://www.spotify.com/us/account/privacy/): download music streaming data\n",
    "<img src=\"https://github.com/GonzagaCPSC222/DAs/raw/master/figures/spotify_data_download.png\" width=\"400\">\n",
    "\n",
    "* [Google Takeout](https://takeout.google.com/): download data from various Google services, like Timeline/location history and YouTube viewing history\n",
    "<img src=\"https://github.com/GonzagaCPSC222/DAs/raw/master/figures/google_data_download.png\" width=\"400\">\n",
    "\n",
    "* [Discord](https://discord.com/channels/@me): download usage data, like message content and activity\n",
    "<img src=\"https://github.com/GonzagaCPSC222/DAs/raw/master/figures/discord_data_download.png\" width=\"400\">\n",
    "\n",
    "* [Netflix](https://help.netflix.com/en/node/101917): download viewing history (image from [here](https://www.makeuseof.com/tag/how-to-download-netflix-viewing-history/))\n",
    "<img src=\"https://github.com/GonzagaCPSC222/DAs/raw/master/figures/netflix_data_download.png\" width=\"400\">\n",
    "\n",
    "Note: some sites have a quick turnaround for exporting your data, some take a while. It is best to try and export what you might want early!\n",
    "\n",
    "### Manual Data Sources\n",
    "These data sources are not automated and require you to manually collect the data at regular intervals or when an event of interest occurs. For example, is there an aspect of your life you'd like to track but don't have an app or software system in place (yet) to automate the process? You can collect data manually via a paper/pencil log, an app, or a spreadsheet. Examples from past projects include:\n",
    "* Log your water/food consumption\n",
    "* Log your study hours\n",
    "* Log your app/laptop/TV screen time\n",
    "* Log your relaxation/stress levels\n",
    "\n",
    "Note: if you are thinking of using a manual data source, you might want to start collecting data early to ensure you have a large enough sample!\n",
    "\n",
    "### Potential Data Analysis\n",
    "For your data source, think about what interesting questions could be mined from its data. Make sure this data has multiple attributes (e.g. is mult-dimensional) and is somewhat complex! For the Fitbit example, here are some ideas:\n",
    "1. Do you get more exercise on the weekend? What about the holidays? What about when you have exams?\n",
    "1. Is the amount of exercise you get correlated with the weather? You could merge this dataset with historical weather data we grab later.\n",
    "1. How do your exercise habits compare to your friends/family? You could create groups of \"study participants\" if we can get this data from other people (with their consent of course!)\n",
    "\n",
    "In a **PDF document called project_part1.pdf**, provide a list of at least three different data sources that you think could be a great fit for the Quantified Self project. For each data source, provide the following information:\n",
    "1. Is the data source automatic or manual?\n",
    "1. How will the data be collected? If this is an automatic data source, provide a screenshot of example data you are able to download.\n",
    "1. At what interval is the data collected? (e.g. minute-by-minute, daily, at each meal, etc.)\n",
    "1. What are different attributes/dimensions of the data? For the Fitbit example, this would be steps, heart rate, calories burned, sleep levels, etc.)\n",
    "1. Why are you interested in this data source and what would you hope to learn from your analysis of your own data collected from it?\n",
    "\n",
    "This write-up should be written using full sentences and should be grammatically correct. Proof read your writing before you submit it!!"
   ]
  },
  {
   "cell_type": "markdown",
   "metadata": {},
   "source": [
    "## Data Ethics (15 pts)\n",
    "Read ['Have You Thought About . . .': Talking About Ethical Implications of Research](https://cacm.acm.org/magazines/2020/9/246935-have-you-thought-about/fulltext). This article was published in the most recent issue of [The Communications of the ACM](https://cacm.acm.org/). The ACM is the go-to professional society for computer scientists.\n",
    "\n",
    "In a **PDF document called ethics.pdf**, provide your reflection on the following discussion points:\n",
    "1. Besides the examples given in the article, what is a new technology that you are concerned may do more harm than good for the world? Cite at least one recent and relevant article related to this technology.\n",
    "1. Have you been in a situation where you were concerned someone you know was conducting research or building something that may have questionable implications? Please describe the experience and remove any personally identifiable information.\n",
    "1. What else struck you about this article?\n",
    "\n",
    "This write-up should be written using full sentences and should be grammaticallly correct. Proof read your writing before you submit it!!"
   ]
  },
  {
   "cell_type": "markdown",
   "metadata": {},
   "source": [
    "## Submitting Assignments\n",
    "1. Use Github classroom to submit your assignment via a Github repo. See the \"Github Classroom Setup\" section at the beginning of this document for details on how to do this. You must commit your solution by the due date and time.\n",
    "1. Your repo should contain only your .py file(s) and your write-up file(s) (.pdf). Double check that this is the case by cloning (or downloading a zip) your submission repo and running your code from VS Code like we will when we grade your code."
   ]
  },
  {
   "cell_type": "markdown",
   "metadata": {},
   "source": [
    "## Grading Guidelines\n",
    "This assignment is worth 75 points + 3 points bonus. Your assignment will be evaluated based on a successful execution in VS Code (using the Anaconda Python Distribution v3.8) and adherence to the program requirements. We will grade according to the following criteria:\n",
    "* 30 pts for correct summary statistics (5 pts per stat)\n",
    "* 10 pts for prompting the user and modifying the list\n",
    "* 5 pts for adherence to course [coding standard](https://nbviewer.jupyter.org/github/GonzagaCPSC222/DAs/blob/master/Coding%20Standard.ipynb)\n",
    "* 15 pts for quality, clarity, and creativity in the project part write-up\n",
    "* 15 pts for quality, clarity, and creativity in the data ethics write-up"
   ]
  }
 ],
 "metadata": {
  "anaconda-cloud": {},
  "kernelspec": {
   "display_name": "Python 3",
   "language": "python",
   "name": "python3"
  },
  "language_info": {
   "codemirror_mode": {
    "name": "ipython",
    "version": 3
   },
   "file_extension": ".py",
   "mimetype": "text/x-python",
   "name": "python",
   "nbconvert_exporter": "python",
   "pygments_lexer": "ipython3",
   "version": "3.7.4"
  }
 },
 "nbformat": 4,
 "nbformat_minor": 4
}
